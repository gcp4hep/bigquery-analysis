{
 "cells": [
  {
   "cell_type": "code",
   "execution_count": 18,
   "metadata": {},
   "outputs": [],
   "source": [
    "import dask"
   ]
  },
  {
   "cell_type": "code",
   "execution_count": 165,
   "metadata": {},
   "outputs": [
    {
     "data": {
      "text/plain": [
       "{'blocked-handlers': [],\n",
       " 'multiprocessing-method': 'spawn',\n",
       " 'use-file-locking': True,\n",
       " 'connections': {'outgoing': 50, 'incoming': 10},\n",
       " 'preload': [],\n",
       " 'preload-argv': [],\n",
       " 'daemon': True,\n",
       " 'validate': False,\n",
       " 'lifetime': {'duration': None, 'stagger': '0 seconds', 'restart': False},\n",
       " 'profile': {'interval': '10ms', 'cycle': '1000ms', 'low-level': False},\n",
       " 'memory': {'target': 0.6, 'spill': 0.7, 'pause': 0.8, 'terminate': 0.95},\n",
       " 'http': {'routes': ['distributed.http.worker.prometheus',\n",
       "   'distributed.http.health',\n",
       "   'distributed.http.statics']}}"
      ]
     },
     "execution_count": 165,
     "metadata": {},
     "output_type": "execute_result"
    }
   ],
   "source": [
    "import dask\n",
    "import dask.distributed\n",
    "dask.config.config[\"distributed\"][\"worker\"][\"memory\"]\n",
    "from dask import delayed\n",
    "import dask\n",
    "dask.config.config[\"distributed\"][\"worker\"]"
   ]
  },
  {
   "cell_type": "code",
   "execution_count": 20,
   "metadata": {},
   "outputs": [
    {
     "data": {
      "application/vnd.jupyter.widget-view+json": {
       "model_id": "a18eef11cdfd4b2eb100216291b03ec7",
       "version_major": 2,
       "version_minor": 0
      },
      "text/plain": [
       "VBox(children=(HTML(value='<h2>GatewayCluster</h2>'), HBox(children=(HTML(value='\\n<div>\\n<style scoped>\\n    …"
      ]
     },
     "metadata": {},
     "output_type": "display_data"
    }
   ],
   "source": [
    "from dask_gateway import GatewayCluster\n",
    "from dask.distributed import Client, LocalCluster\n",
    "cluster = GatewayCluster(\n",
    "    worker_cores=2,\n",
    "    worker_memory=8,\n",
    "    image=\"eu.gcr.io/gke-dev-311213/dask-gateway-physlite:20210622\"\n",
    ")\n",
    "cluster"
   ]
  },
  {
   "cell_type": "code",
   "execution_count": 153,
   "metadata": {},
   "outputs": [],
   "source": [
    "cluster.scale(500)"
   ]
  },
  {
   "cell_type": "code",
   "execution_count": 25,
   "metadata": {},
   "outputs": [],
   "source": [
    "dask_client = cluster.get_client()"
   ]
  },
  {
   "cell_type": "code",
   "execution_count": 172,
   "metadata": {},
   "outputs": [
    {
     "data": {
      "text/plain": [
       "1000"
      ]
     },
     "execution_count": 172,
     "metadata": {},
     "output_type": "execute_result"
    }
   ],
   "source": [
    "import os\n",
    "os.environ['GOOGLE_APPLICATION_CREDENTIALS'] = 'gcp_auth.json'\n",
    "from google.cloud.bigquery_storage import BigQueryReadClient\n",
    "from google.cloud.bigquery_storage import types,SplitReadStreamRequest\n",
    "\n",
    "gcp_project = 'gke-dev-311213'\n",
    "gcp_dataset = 'PHYSLITE100TB'\n",
    "table_name = 'physlitetestdata'\n",
    "\n",
    "v = 'personalstuff-309012'\n",
    "table = f\"projects/{gcp_project}/datasets/{gcp_dataset}/tables/{table_name}\"\n",
    "\n",
    "requested_session = types.ReadSession()\n",
    "requested_session.table = table\n",
    "requested_session.data_format = types.DataFormat.ARROW\n",
    "\n",
    "client = BigQueryReadClient()\n",
    "parent = f\"projects/{gcp_project}\"\n",
    "session = client.create_read_session(\n",
    "    parent=parent,\n",
    "    read_session=requested_session,\n",
    "    max_stream_count=1000,\n",
    ")\n",
    "session.read_options.selected_fields = ['Jets']\n",
    "\n",
    "streams = session.streams\n",
    "len(streams)"
   ]
  },
  {
   "cell_type": "code",
   "execution_count": 120,
   "metadata": {},
   "outputs": [],
   "source": [
    "def split_stream(source):\n",
    "    req = SplitReadStreamRequest(name = source.name,fraction = 0.5)\n",
    "    res = client.split_read_stream(req)\n",
    "    a,b = res.primary_stream,res.remainder_stream\n",
    "    return a,b\n",
    "\n",
    "def double_streams(streams):\n",
    "    out = [y for x in streams for y in split_stream(x)]\n",
    "    return out\n",
    "\n",
    "# streams = double_streams(streams)\n",
    "# len(streams)"
   ]
  },
  {
   "cell_type": "code",
   "execution_count": 29,
   "metadata": {},
   "outputs": [],
   "source": [
    "def get_pages(stream):\n",
    "    reader = client.read_rows(streams[0].name)\n",
    "    from google.cloud.bigquery_storage_v1.reader import ReadRowsIterable\n",
    "    rit = ReadRowsIterable(reader,session)\n",
    "    pages = list(rit.pages)\n",
    "    return pages"
   ]
  },
  {
   "cell_type": "code",
   "execution_count": 30,
   "metadata": {},
   "outputs": [],
   "source": [
    "auth = open(os.environ['GOOGLE_APPLICATION_CREDENTIALS']).read()\n",
    "import json\n",
    "ReadSession = types.ReadSession"
   ]
  },
  {
   "cell_type": "code",
   "execution_count": 121,
   "metadata": {},
   "outputs": [],
   "source": [
    "import awkward as ak\n",
    "import numpy as np\n",
    "import tempfile\n",
    "from google.cloud.bigquery_storage_v1.reader import ReadRowsIterable\n",
    "def process_page(page):\n",
    "    data = ak.from_arrow(page)\n",
    "#     return np.asarray(ak.flatten(data.Jets.pt[:,:1]/100000))\n",
    "    return np.histogram(np.asarray(ak.flatten(data.Jets.pt[:,:1]/10000)), bins = np.linspace(0,100,101))[0]\n",
    "\n",
    "def read(auth,session_payload,stream_name):\n",
    "    session = ReadSession.deserialize(session_payload)\n",
    "    t = tempfile.NamedTemporaryFile(mode = 'w', delete = False)\n",
    "    t.write(auth)\n",
    "    t.close()\n",
    "    json.load(open(t.name))\n",
    "    os.environ['GOOGLE_APPLICATION_CREDENTIALS'] = t.name\n",
    "    client = BigQueryReadClient()    \n",
    "    reader = client.read_rows(stream_name)\n",
    "#     page_data = [process_page(reader.to_arrow(session))]   \n",
    "    rit = ReadRowsIterable(reader,session)\n",
    "    page_data = ak.sum([process_page(page.to_arrow()) for page in rit.pages],axis=0)\n",
    "    return page_data\n",
    "#     return ak.sum(page_data) if page_data else ak.Array([])[0]\n"
   ]
  },
  {
   "cell_type": "code",
   "execution_count": 122,
   "metadata": {},
   "outputs": [],
   "source": [
    "a = read(auth,ReadSession.serialize(session),streams[0].name)"
   ]
  },
  {
   "cell_type": "code",
   "execution_count": 123,
   "metadata": {},
   "outputs": [
    {
     "data": {
      "text/plain": [
       "[]"
      ]
     },
     "execution_count": 123,
     "metadata": {},
     "output_type": "execute_result"
    },
    {
     "data": {
      "image/png": "[encoded data removed]",
      "text/plain": [
       "<Figure size 432x288 with 1 Axes>"
      ]
     },
     "metadata": {
      "needs_background": "light"
     },
     "output_type": "display_data"
    }
   ],
   "source": [
    "import matplotlib.pyplot as plt\n",
    "plt.bar(range(len(a)),a)\n",
    "plt.semilogy()"
   ]
  },
  {
   "cell_type": "code",
   "execution_count": 124,
   "metadata": {},
   "outputs": [
    {
     "data": {
      "text/plain": [
       "<Array [0, 839, 1115, 834, ... 0, 0, 0, 0] type='100 * int64'>"
      ]
     },
     "execution_count": 124,
     "metadata": {},
     "output_type": "execute_result"
    }
   ],
   "source": [
    "read(auth,ReadSession.serialize(session),streams[0].name)"
   ]
  },
  {
   "cell_type": "code",
   "execution_count": 161,
   "metadata": {},
   "outputs": [
    {
     "name": "stdout",
     "output_type": "stream",
     "text": [
      "8000\n"
     ]
    }
   ],
   "source": [
    "futs = [delayed(read)(\n",
    "        auth,\n",
    "        ReadSession.serialize(session),\n",
    "        s.name\n",
    "    ) for s in streams[:] + streams[:] + streams[:] + streams[:] + streams[:] + streams[:] + streams[:] + streams[:]\n",
    "#         + streams[:] + streams[:]\n",
    "]\n",
    "print(len(futs))"
   ]
  },
  {
   "cell_type": "code",
   "execution_count": 162,
   "metadata": {},
   "outputs": [
    {
     "data": {
      "text/plain": [
       "119.63878512382507"
      ]
     },
     "execution_count": 162,
     "metadata": {},
     "output_type": "execute_result"
    }
   ],
   "source": [
    "import time\n",
    "start = time.time()\n",
    "filtered = delayed(ak.sum)(futs,axis=0).compute()\n",
    "time.time()-start"
   ]
  },
  {
   "cell_type": "code",
   "execution_count": 144,
   "metadata": {},
   "outputs": [
    {
     "data": {
      "text/plain": [
       "<Array [0, 1359541, 1798778, ... 0, 0, 0] type='100 * int64'>"
      ]
     },
     "execution_count": 144,
     "metadata": {},
     "output_type": "execute_result"
    }
   ],
   "source": [
    "filtered"
   ]
  },
  {
   "cell_type": "code",
   "execution_count": 149,
   "metadata": {},
   "outputs": [
    {
     "data": {
      "text/plain": [
       "[]"
      ]
     },
     "execution_count": 149,
     "metadata": {},
     "output_type": "execute_result"
    },
    {
     "data": {
      "image/png": "[encoded data removed]",
      "text/plain": [
       "<Figure size 432x288 with 1 Axes>"
      ]
     },
     "metadata": {
      "needs_background": "light"
     },
     "output_type": "display_data"
    }
   ],
   "source": [
    "import matplotlib.pyplot as plt\n",
    "plt.bar(np.arange(len(filtered)),filtered);\n",
    "plt.semilogy()"
   ]
  },
  {
   "cell_type": "code",
   "execution_count": 164,
   "metadata": {},
   "outputs": [],
   "source": [
    "cluster.scale(0)"
   ]
  },
  {
   "cell_type": "code",
   "execution_count": 163,
   "metadata": {},
   "outputs": [
    {
     "data": {
      "text/plain": [
       "163981520"
      ]
     },
     "execution_count": 163,
     "metadata": {},
     "output_type": "execute_result"
    }
   ],
   "source": [
    "np.sum(filtered)"
   ]
  },
  {
   "cell_type": "code",
   "execution_count": null,
   "metadata": {},
   "outputs": [],
   "source": []
  }
 ],
 "metadata": {
  "kernelspec": {
   "display_name": "Python 3",
   "language": "python",
   "name": "python3"
  },
  "language_info": {
   "codemirror_mode": {
    "name": "ipython",
    "version": 3
   },
   "file_extension": ".py",
   "mimetype": "text/x-python",
   "name": "python",
   "nbconvert_exporter": "python",
   "pygments_lexer": "ipython3",
   "version": "3.8.6"
  }
 },
 "nbformat": 4,
 "nbformat_minor": 4
}
